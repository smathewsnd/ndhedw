{
  "nbformat": 4,
  "nbformat_minor": 0,
  "metadata": {
    "colab": {
      "name": "HEDW 2020 - Python for Data Science.ipynb",
      "provenance": [],
      "collapsed_sections": [
        "HxWie_Ota6RA",
        "8ObxckdybES_",
        "8F2dZ6HkbJVP",
        "15Gssp_Fboai",
        "xCCsOHqmbu7Y"
      ]
    },
    "kernelspec": {
      "name": "python3",
      "display_name": "Python 3"
    }
  },
  "cells": [
    {
      "cell_type": "markdown",
      "metadata": {
        "id": "dqBvWFXPrRPx",
        "colab_type": "text"
      },
      "source": [
        "# General Jupyter notebook Commands"
      ]
    },
    {
      "cell_type": "code",
      "metadata": {
        "id": "OXdKuDr9aCXX",
        "colab_type": "code",
        "colab": {}
      },
      "source": [
        "# to display bin to show common operations\n",
        "!ls /bin"
      ],
      "execution_count": 0,
      "outputs": []
    },
    {
      "cell_type": "code",
      "metadata": {
        "id": "Q7LuxJt6aH2C",
        "colab_type": "code",
        "colab": {}
      },
      "source": [
        "%lsmagic"
      ],
      "execution_count": 0,
      "outputs": []
    },
    {
      "cell_type": "code",
      "metadata": {
        "id": "rK7XWpXkaJUn",
        "colab_type": "code",
        "colab": {}
      },
      "source": [
        "# it's called magics in Jupyter Notebooks\n",
        "%%html\n",
        "<marquee style='width: 30%; color: green;'><b>HEDW 2020!</b></marquee>"
      ],
      "execution_count": 0,
      "outputs": []
    },
    {
      "cell_type": "code",
      "metadata": {
        "id": "cUfjsmqYaK5M",
        "colab_type": "code",
        "colab": {}
      },
      "source": [
        "a=10\n",
        "a"
      ],
      "execution_count": 0,
      "outputs": []
    },
    {
      "cell_type": "markdown",
      "metadata": {
        "id": "v5PmVDuDaMxk",
        "colab_type": "text"
      },
      "source": [
        "# Database Access"
      ]
    },
    {
      "cell_type": "code",
      "metadata": {
        "id": "jFZ5SN9haPNK",
        "colab_type": "code",
        "colab": {}
      },
      "source": [
        "# Snowflake connector to Python\n",
        "!pip install --upgrade snowflake-connector-python[pandas] --quiet"
      ],
      "execution_count": 0,
      "outputs": []
    },
    {
      "cell_type": "code",
      "metadata": {
        "id": "FzhDK8EuaRct",
        "colab_type": "code",
        "colab": {}
      },
      "source": [
        "# Pandas - library for data manipulation, aggregation, ploting (Data Analysis Library built on python)\n",
        "import pandas as pd\n",
        "import snowflake.connector "
      ],
      "execution_count": 0,
      "outputs": []
    },
    {
      "cell_type": "code",
      "metadata": {
        "id": "S-fswrP1aTD_",
        "colab_type": "code",
        "colab": {}
      },
      "source": [
        "# connector & cursor objects for snowflake DB - connectors for major DBs are available\n",
        "ctx = snowflake.connector.connect(\n",
        "    user='[user]',\n",
        "    password='[password]', \n",
        "    account='[account]',\n",
        "    region='[region]',\n",
        "    warehouse='[warehouse]',\n",
        "    database='[database]',\n",
        "    schema='[schema]',\n",
        "    role='[role]'\n",
        "    )\n",
        "stu = ctx.cursor()"
      ],
      "execution_count": 0,
      "outputs": []
    },
    {
      "cell_type": "markdown",
      "metadata": {
        "id": "0AjCSiuBaVyG",
        "colab_type": "text"
      },
      "source": [
        "#Data Frame and Features"
      ]
    },
    {
      "cell_type": "code",
      "metadata": {
        "id": "4f8miq2yaUk_",
        "colab_type": "code",
        "colab": {}
      },
      "source": [
        "# Extracting data into a Data Frame\n",
        "query =\"select s.sat_math,  s.sat_verbal,  s.act_composite, s.sex, s.GPA  from student_score s\"\n",
        "#df = pd.read_sql(query, con = ctx)\n",
        "\n",
        "# Read in data from Github\n",
        "url= 'https://raw.githubusercontent.com/smathewsnd/ndhedw/master/HEDW_data.csv'\n",
        "df = pd.read_csv(url,usecols=['sat_math','sat_verbal','act_composite','sex','GPA'])\n",
        "\n",
        "df.head(5)"
      ],
      "execution_count": 0,
      "outputs": []
    },
    {
      "cell_type": "code",
      "metadata": {
        "id": "mUC9n06dadrx",
        "colab_type": "code",
        "colab": {}
      },
      "source": [
        "# Extract data into a list\n",
        "try:\n",
        "  stu.execute(\"select s.sat_math, s.sat_verbal, s.act_composite, s.sex, s.GPA from student_score s\")\n",
        "  rows = stu.fetchall()\n",
        "finally:\n",
        "  stu.close()\n",
        "  ctx.close()"
      ],
      "execution_count": 0,
      "outputs": []
    },
    {
      "cell_type": "code",
      "metadata": {
        "id": "EBe_BOMBafbQ",
        "colab_type": "code",
        "colab": {}
      },
      "source": [
        "# Creating a different column names\n",
        "usecols=['SAT MATH','SAT VERBAL','ACT COMPOSITE','GENDER','GPA']\n",
        "df1= pd.DataFrame(rows, columns=usecols)"
      ],
      "execution_count": 0,
      "outputs": []
    },
    {
      "cell_type": "code",
      "metadata": {
        "id": "AgPeLwjtahG5",
        "colab_type": "code",
        "colab": {}
      },
      "source": [
        "# displays first n rows\n",
        "df1.tail(5)"
      ],
      "execution_count": 0,
      "outputs": []
    },
    {
      "cell_type": "code",
      "metadata": {
        "id": "2V5Rskg5ajAW",
        "colab_type": "code",
        "colab": {}
      },
      "source": [
        "# It returns the shape(#cols, #rows)\n",
        "df1.shape"
      ],
      "execution_count": 0,
      "outputs": []
    },
    {
      "cell_type": "code",
      "metadata": {
        "id": "VfGYfhqRakvp",
        "colab_type": "code",
        "colab": {}
      },
      "source": [
        "# to understand overall properties of dataset, including stats distribution\n",
        "df1.describe()"
      ],
      "execution_count": 0,
      "outputs": []
    },
    {
      "cell_type": "code",
      "metadata": {
        "id": "ewEtJN2_amWo",
        "colab_type": "code",
        "colab": {}
      },
      "source": [
        "# This parameter includes all the elements in the data frame\n",
        "df1.describe(include='all')"
      ],
      "execution_count": 0,
      "outputs": []
    },
    {
      "cell_type": "code",
      "metadata": {
        "id": "-DEf-MUAan8z",
        "colab_type": "code",
        "colab": {}
      },
      "source": [
        "# count of rows in this data frame\n",
        "df1.count()"
      ],
      "execution_count": 0,
      "outputs": []
    },
    {
      "cell_type": "code",
      "metadata": {
        "id": "KeNGF8UjarAH",
        "colab_type": "code",
        "colab": {}
      },
      "source": [
        "# average using group by\n",
        "df.groupby(df1['GENDER']).mean()"
      ],
      "execution_count": 0,
      "outputs": []
    },
    {
      "cell_type": "code",
      "metadata": {
        "id": "MAzxc5XKasnV",
        "colab_type": "code",
        "colab": {}
      },
      "source": [
        "# Count of rows Male and Female\n",
        "print(df1[df1.GENDER == 'M'].count())\n",
        "print(df1[df1.GENDER== 'F'].count())"
      ],
      "execution_count": 0,
      "outputs": []
    },
    {
      "cell_type": "code",
      "metadata": {
        "id": "IUtFirpNausI",
        "colab_type": "code",
        "colab": {}
      },
      "source": [
        "# Histogram - Distribution of the data\n",
        "hist = df1.hist(bins=20)"
      ],
      "execution_count": 0,
      "outputs": []
    },
    {
      "cell_type": "code",
      "metadata": {
        "id": "KwedhZYSawSr",
        "colab_type": "code",
        "colab": {}
      },
      "source": [
        "# Create Random Sampling of data\n",
        "df1.sample(n=100, random_state = 2020)"
      ],
      "execution_count": 0,
      "outputs": []
    },
    {
      "cell_type": "code",
      "metadata": {
        "id": "q-zjYyR6ax61",
        "colab_type": "code",
        "colab": {}
      },
      "source": [
        "# This is to create a sample data using 20% of the data\n",
        "student_test = df.sample(frac = 0.2, random_state = 2020) \n",
        "student_test.head(5)"
      ],
      "execution_count": 0,
      "outputs": []
    },
    {
      "cell_type": "code",
      "metadata": {
        "id": "3LYnxuNjazjI",
        "colab_type": "code",
        "colab": {}
      },
      "source": [
        "# loc is the operation of locating the element\n",
        "student_test.loc[1001][0]"
      ],
      "execution_count": 0,
      "outputs": []
    },
    {
      "cell_type": "code",
      "metadata": {
        "id": "jo8u109aa1Nd",
        "colab_type": "code",
        "colab": {}
      },
      "source": [
        "# iloc is the operation of locating the index\n",
        "student_test.iloc[1][4]"
      ],
      "execution_count": 0,
      "outputs": []
    },
    {
      "cell_type": "code",
      "metadata": {
        "id": "A7UfmZ8Va3CA",
        "colab_type": "code",
        "colab": {}
      },
      "source": [
        "# convert it to an array object and homogeneous data types\n",
        "df.to_numpy()"
      ],
      "execution_count": 0,
      "outputs": []
    },
    {
      "cell_type": "markdown",
      "metadata": {
        "id": "HxWie_Ota6RA",
        "colab_type": "text"
      },
      "source": [
        "#Data Storage"
      ]
    },
    {
      "cell_type": "code",
      "metadata": {
        "id": "sCxrKlI_a7xg",
        "colab_type": "code",
        "colab": {}
      },
      "source": [
        "#Colab to mount the drive \n",
        "from google.colab import drive\n",
        "drive.mount('/drive')"
      ],
      "execution_count": 0,
      "outputs": []
    },
    {
      "cell_type": "code",
      "metadata": {
        "id": "dToKOrrja9f8",
        "colab_type": "code",
        "colab": {}
      },
      "source": [
        "#Uploading the newly created data frame into a csv file in google drive\n",
        "student_test.to_csv('/drive/My Drive/Colab Notebooks/HEDW_test_sample.csv', encoding='utf-8', index=False)"
      ],
      "execution_count": 0,
      "outputs": []
    },
    {
      "cell_type": "code",
      "metadata": {
        "id": "txUA94dga_CR",
        "colab_type": "code",
        "colab": {}
      },
      "source": [
        "# this command reads the csv file that I uploaded in google drive\n",
        "train = pd.read_csv('/gdrive/My Drive/Colab Notebooks/HEDW_test_sample.csv')\n",
        "print(train,10)"
      ],
      "execution_count": 0,
      "outputs": []
    },
    {
      "cell_type": "code",
      "metadata": {
        "id": "ni7piMGkbAcF",
        "colab_type": "code",
        "colab": {}
      },
      "source": [
        "#github *.csv file download to create dataframe (web url to access the github file)\n",
        "url= 'https://raw.githubusercontent.com/smathewsnd/ndhedw/master/HEDW_data.csv'\n",
        "df = pd.read_csv(url,usecols=['sat_math','sat_verbal','act_composite','sex','GPA'])\n",
        "print(df)"
      ],
      "execution_count": 0,
      "outputs": []
    },
    {
      "cell_type": "code",
      "metadata": {
        "id": "rs3ogJZ-bB_6",
        "colab_type": "code",
        "colab": {}
      },
      "source": [
        "# upload *.csv file to S3 bucket - upload df to S3\n",
        "import s3fs\n",
        "s3 = s3fs.S3FileSystem(secret='[secret_key]', key='[key]')\n",
        "\n",
        "# Use 'w' for py3, 'wb' for py2\n",
        "with s3.open('[bit_bucket_name]/demo/HEDW_data.csv','w') as f:\n",
        "    df.to_csv(f,sep=',',  index=False)"
      ],
      "execution_count": 0,
      "outputs": []
    },
    {
      "cell_type": "markdown",
      "metadata": {
        "id": "8ObxckdybES_",
        "colab_type": "text"
      },
      "source": [
        "#Create Table and Load Data"
      ]
    },
    {
      "cell_type": "code",
      "metadata": {
        "id": "iT0FAjVFbF7Z",
        "colab_type": "code",
        "colab": {}
      },
      "source": [
        "#Using python script create, insert and select tables; insert S3 csv file; Snowflake_Stage - @DEMO_DATA File Format = DEMO_DB.PUBLIC.csv\n",
        "try:\n",
        "  stu.execute(\"create or replace table student_score(sat_math integer, sat_verbal integer, act_composite integer, sex varchar(1), GPA number(3,2));\")\n",
        "  stu.execute(\"COPY INTO student_score FROM @DEMO_DATA/demo/HEDW_data.csv FILE_FORMAT ='DEMO_DB.PUBLIC.csv'\")\n",
        "finally:\n",
        "  stu.close()\n",
        "  ctx.close()"
      ],
      "execution_count": 0,
      "outputs": []
    },
    {
      "cell_type": "markdown",
      "metadata": {
        "id": "8F2dZ6HkbJVP",
        "colab_type": "text"
      },
      "source": [
        "#Exploratory Data Analysis"
      ]
    },
    {
      "cell_type": "code",
      "metadata": {
        "id": "CtZ_yV4vbQQV",
        "colab_type": "code",
        "colab": {}
      },
      "source": [
        "# import modules\n",
        "import numpy as np\n",
        "import pandas as pd\n",
        "import matplotlib.pyplot as plt\n",
        "import seaborn as sns\n",
        "\n",
        "# necessary to see plots in the notebook\n",
        "%matplotlib inline"
      ],
      "execution_count": 0,
      "outputs": []
    },
    {
      "cell_type": "code",
      "metadata": {
        "id": "mfG-eeixbVkH",
        "colab_type": "code",
        "colab": {}
      },
      "source": [
        "# print histogram of SAT math scores\n",
        "sns.distplot(df['SAT_MATH'], kde = False, bins = 20)"
      ],
      "execution_count": 0,
      "outputs": []
    },
    {
      "cell_type": "code",
      "metadata": {
        "id": "2XEwE2bqbZ3S",
        "colab_type": "code",
        "colab": {}
      },
      "source": [
        "# print scatter plot of SAT verbal vs. SAT math\n",
        "sns.scatterplot(x = 'SAT_MATH', y = 'SAT_VERBAL', data = df)"
      ],
      "execution_count": 0,
      "outputs": []
    },
    {
      "cell_type": "code",
      "metadata": {
        "id": "KqDxXC2Obb2R",
        "colab_type": "code",
        "colab": {}
      },
      "source": [
        "# plot boxplot for SAT math scores, broken down by sex\n",
        "sns.boxplot(x = 'SEX', y = 'SAT_MATH', hue = 'SEX', data = df)"
      ],
      "execution_count": 0,
      "outputs": []
    },
    {
      "cell_type": "code",
      "metadata": {
        "id": "DQwDBWtubdR4",
        "colab_type": "code",
        "colab": {}
      },
      "source": [
        "# plot boxplot for GPA, broken down by sex\n",
        "sns.boxplot(x = 'SEX', y = 'GPA', hue = 'SEX', data = df)"
      ],
      "execution_count": 0,
      "outputs": []
    },
    {
      "cell_type": "code",
      "metadata": {
        "id": "n4Iq7u1sbetf",
        "colab_type": "code",
        "colab": {}
      },
      "source": [
        "# create new random variable\n",
        "np.random.seed(2020)\n",
        "df['RANDOM_VAR'] = np.random.randint(low = 1, high = 100, size = 2000)"
      ],
      "execution_count": 0,
      "outputs": []
    },
    {
      "cell_type": "code",
      "metadata": {
        "id": "NTGxq6OKbgtw",
        "colab_type": "code",
        "colab": {}
      },
      "source": [
        "# look at the first five rows\n",
        "df.head()"
      ],
      "execution_count": 0,
      "outputs": []
    },
    {
      "cell_type": "code",
      "metadata": {
        "id": "SGI_vHwgbmdn",
        "colab_type": "code",
        "colab": {}
      },
      "source": [
        "# print heatmap of correlation matrix for numeric fields\n",
        "sns.heatmap(df.corr(), vmin = -.2)"
      ],
      "execution_count": 0,
      "outputs": []
    },
    {
      "cell_type": "markdown",
      "metadata": {
        "id": "15Gssp_Fboai",
        "colab_type": "text"
      },
      "source": [
        "#Simple Linear Regression"
      ]
    },
    {
      "cell_type": "code",
      "metadata": {
        "id": "w_JNVigmbm4Z",
        "colab_type": "code",
        "colab": {}
      },
      "source": [
        "# plot simple linear regression line for GPA from SAT math\n",
        "sns.lmplot(x = 'SAT_MATH', y = 'GPA', data = df, line_kws = {'color': 'green'})"
      ],
      "execution_count": 0,
      "outputs": []
    },
    {
      "cell_type": "code",
      "metadata": {
        "id": "SoO38kMubswU",
        "colab_type": "code",
        "colab": {}
      },
      "source": [
        "# plot simple linear regression line for GPA from SAT math, broken down by sex\n",
        "sns.lmplot(x = 'SAT_MATH', y = 'GPA', data = df, hue = 'SEX')"
      ],
      "execution_count": 0,
      "outputs": []
    },
    {
      "cell_type": "markdown",
      "metadata": {
        "id": "xCCsOHqmbu7Y",
        "colab_type": "text"
      },
      "source": [
        "#Multiple Linear Regression"
      ]
    },
    {
      "cell_type": "code",
      "metadata": {
        "id": "c-NglFYUb87C",
        "colab_type": "code",
        "colab": {}
      },
      "source": [
        "# import functions for linear regression\n",
        "from sklearn.linear_model import LinearRegression\n",
        "from sklearn.model_selection import train_test_split"
      ],
      "execution_count": 0,
      "outputs": []
    },
    {
      "cell_type": "code",
      "metadata": {
        "id": "ifaJXMbkbxqA",
        "colab_type": "code",
        "colab": {}
      },
      "source": [
        "# obtain dummy variables for gender\n",
        "df2 = pd.get_dummies(df, drop_first = True)"
      ],
      "execution_count": 0,
      "outputs": []
    },
    {
      "cell_type": "code",
      "metadata": {
        "id": "43L96Cr3b2hX",
        "colab_type": "code",
        "colab": {}
      },
      "source": [
        "# look at first five rows of the original dataset for comparison\n",
        "df.head()"
      ],
      "execution_count": 0,
      "outputs": []
    },
    {
      "cell_type": "code",
      "metadata": {
        "id": "wtWPeQs2b5qH",
        "colab_type": "code",
        "colab": {}
      },
      "source": [
        "# look at first five rows of the new dataset\n",
        "df2.head()"
      ],
      "execution_count": 0,
      "outputs": []
    },
    {
      "cell_type": "code",
      "metadata": {
        "id": "jA5_H1A0cJ0J",
        "colab_type": "code",
        "colab": {}
      },
      "source": [
        "# split data into predictors (X) and response (y)\n",
        "X = df2[['SAT_MATH', 'SAT_VERBAL', 'ACT_COMPOSITE', 'RANDOM_VAR', 'SEX_M']]\n",
        "y = df2['GPA']\n",
        "\n",
        "# perform train/test split\n",
        "X_train, X_test, y_train, y_test = train_test_split(X, y, test_size = 0.2, random_state = 2020)"
      ],
      "execution_count": 0,
      "outputs": []
    },
    {
      "cell_type": "code",
      "metadata": {
        "id": "H9AmQsIRcSiO",
        "colab_type": "code",
        "colab": {}
      },
      "source": [
        "# perform multiple linear regression on training set\n",
        "lm = LinearRegression()\n",
        "lm.fit(X_train, y_train)"
      ],
      "execution_count": 0,
      "outputs": []
    },
    {
      "cell_type": "code",
      "metadata": {
        "id": "EbkeCaGicWan",
        "colab_type": "code",
        "colab": {}
      },
      "source": [
        "# print intercept of the resulting model\n",
        "print(lm.intercept_)"
      ],
      "execution_count": 0,
      "outputs": []
    },
    {
      "cell_type": "code",
      "metadata": {
        "id": "bkpzOpMBcYXc",
        "colab_type": "code",
        "colab": {}
      },
      "source": [
        "# print coefficients of the resulting model\n",
        "coeff_df = pd.DataFrame(lm.coef_, X_train.columns, columns = ['Coefficient'])\n",
        "coeff_df"
      ],
      "execution_count": 0,
      "outputs": []
    },
    {
      "cell_type": "code",
      "metadata": {
        "id": "xkzG25S7cZrJ",
        "colab_type": "code",
        "colab": {}
      },
      "source": [
        "# make prediction on test set\n",
        "predictions = lm.predict(X_test)"
      ],
      "execution_count": 0,
      "outputs": []
    },
    {
      "cell_type": "code",
      "metadata": {
        "id": "qRWb_XtrcbLd",
        "colab_type": "code",
        "colab": {}
      },
      "source": [
        "# plot predicted GPA vs. actual GPA for test set\n",
        "fig, axes = plt.subplots()\n",
        "fig = sns.scatterplot(y_test, predictions)\n",
        "axes.set_xlabel('Actual GPA')\n",
        "axes.set_ylabel('Predicted GPA')\n",
        "axes.set_aspect(1)\n",
        "plt.plot([0.0, 4.0], [0.0, 4.0], color = 'red')"
      ],
      "execution_count": 0,
      "outputs": []
    },
    {
      "cell_type": "code",
      "metadata": {
        "id": "xzNMThw3cdIV",
        "colab_type": "code",
        "colab": {}
      },
      "source": [
        "# want to see p-values; need to use a different function\n",
        "import statsmodels.api as sm\n",
        "\n",
        "# fit multiple linear regression model again using different function\n",
        "X2_train = sm.add_constant(X_train)\n",
        "test2 = sm.OLS(y_train, X2_train)\n",
        "test2 = test2.fit()\n",
        "\n",
        "# print summary of resulting model\n",
        "print(test2.summary())"
      ],
      "execution_count": 0,
      "outputs": []
    },
    {
      "cell_type": "code",
      "metadata": {
        "id": "wTIcFXi1cmUI",
        "colab_type": "code",
        "colab": {}
      },
      "source": [
        "# predict someone's GPA\n",
        "lm.predict([[600, 600, 25, 50, 0]])"
      ],
      "execution_count": 0,
      "outputs": []
    }
  ]
}